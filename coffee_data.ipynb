{
 "cells": [
  {
   "cell_type": "code",
   "execution_count": null,
   "id": "8e38bbf3-c4f3-480c-bc8c-14742e1751b5",
   "metadata": {
    "tags": []
   },
   "outputs": [],
   "source": [
    "import pandas as pd \n",
    "import seaborn as sns\n",
    "import matplotlib.pyplot as plt \n",
    "import scipy.stats as sps\n",
    "import requests\n"
   ]
  },
  {
   "cell_type": "code",
   "execution_count": null,
   "id": "db83f1eb-87fe-4157-8656-5a24aa0d018a",
   "metadata": {
    "tags": []
   },
   "outputs": [],
   "source": [
    "URL = 'https://raw.githubusercontent.com/rfordatascience/tidytuesday/master/data/2020/2020-07-07/coffee_ratings.csv'\n",
    "response = requests.get(URL)\n",
    "status_code = response.status_code\n",
    "\n",
    "try:\n",
    "    if status_code == 200:\n",
    "        print(\"Ссылка получает ответ от сервера 200 - можно продолжать работу\")\n",
    "    else:\n",
    "        print(f\"Ссылка получает ответ от сервера {status_code} - убедитесь в интернет-соединении или правильности ссылки\")\n",
    "except requests.exceptions.RequestException as e:\n",
    "    print(f\"Ошибка при проверке ссылки: {e}\")\n"
   ]
  },
  {
   "cell_type": "code",
   "execution_count": null,
   "id": "f5a66223-f6a5-4f94-bfb2-bdc6cb2991e5",
   "metadata": {
    "tags": []
   },
   "outputs": [],
   "source": [
    "df = pd.read_csv(URL)"
   ]
  },
  {
   "cell_type": "code",
   "execution_count": null,
   "id": "75a060ae-e995-4a68-911a-599623fa5f5c",
   "metadata": {
    "tags": []
   },
   "outputs": [],
   "source": [
    "df.info()"
   ]
  },
  {
   "cell_type": "code",
   "execution_count": null,
   "id": "f71ab30f-4762-4456-90ea-5fb1c814e6c7",
   "metadata": {
    "tags": []
   },
   "outputs": [],
   "source": [
    "df.describe()"
   ]
  },
  {
   "cell_type": "code",
   "execution_count": null,
   "id": "d97568f5-17e5-4a52-a315-322f13f4890c",
   "metadata": {
    "tags": []
   },
   "outputs": [],
   "source": [
    "df.shape"
   ]
  },
  {
   "cell_type": "code",
   "execution_count": null,
   "id": "52433916-1956-4a39-be40-f16120c8ee3c",
   "metadata": {
    "tags": []
   },
   "outputs": [],
   "source": [
    "df.columns"
   ]
  },
  {
   "cell_type": "code",
   "execution_count": null,
   "id": "4bfd7844-1913-48fd-a725-c778356bf6f2",
   "metadata": {
    "tags": []
   },
   "outputs": [],
   "source": [
    "df.head()"
   ]
  },
  {
   "cell_type": "code",
   "execution_count": null,
   "id": "65c093fe-033b-4208-87dd-c339409a7f88",
   "metadata": {
    "tags": []
   },
   "outputs": [],
   "source": [
    "df.tail()"
   ]
  },
  {
   "cell_type": "code",
   "execution_count": null,
   "id": "0c8be438-cb90-459d-b061-bbc132746e0b",
   "metadata": {
    "tags": []
   },
   "outputs": [],
   "source": [
    "df.fillna(0).isna().sum()"
   ]
  },
  {
   "cell_type": "markdown",
   "id": "bba17934-7e13-4579-8125-7d48f539efd2",
   "metadata": {},
   "source": [
    "2. Какие страны являются крупными экспортерами кофе? \n",
    "3. Каковы корреляции между различными показателями оценки кофе?\n",
    "4. Как (если есть) влияние цвета зерен на общий сорт кофе?\n",
    "5. Влияет ли страна происхождения на качество кофе?\n",
    "6. Существенно ли влияет высота на качество кофе?"
   ]
  },
  {
   "cell_type": "markdown",
   "id": "422aff46-3565-47b9-850e-2026549524f2",
   "metadata": {},
   "source": [
    "2. Какие страны являются крупными экспортерами кофе? "
   ]
  },
  {
   "cell_type": "code",
   "execution_count": null,
   "id": "556564b5-583b-4733-ad39-c3287ba99a0c",
   "metadata": {
    "tags": []
   },
   "outputs": [],
   "source": [
    "most_popular_country = df['country_of_origin'].value_counts()\n",
    "most_popular_country.head()"
   ]
  },
  {
   "cell_type": "code",
   "execution_count": null,
   "id": "16456545-f67f-4bd2-9e80-0fe191b0169f",
   "metadata": {
    "tags": []
   },
   "outputs": [],
   "source": [
    "sns.barplot(x=most_popular_country.index[most_popular_country > 20],\n",
    "            y=most_popular_country.values[most_popular_country > 20])\n",
    "plt.title('The biggest exporters of coffee')\n",
    "plt.xticks(rotation=90)\n",
    "plt.show()"
   ]
  },
  {
   "cell_type": "markdown",
   "id": "46c04e21-1f83-4268-aa36-edd9ee0e9f26",
   "metadata": {},
   "source": [
    "3. Каковы корреляции между различными показателями оценки кофе?\n",
    "\n",
    "К показателям оценки кофе относят: аромат, вкус, баланс, кислотность, однородность и тд.\n",
    "Поэтому к построению корреляции пришлось использовать достаточно много столбцов.\n",
    "Источник: https://spiritanimalcoffee.com/blogs/spirit-animal-blog/the-coffee-quality-score\n"
   ]
  },
  {
   "cell_type": "code",
   "execution_count": null,
   "id": "b28653dc-c84e-4b20-8287-c61fed6d1ecd",
   "metadata": {
    "tags": []
   },
   "outputs": [],
   "source": [
    "corr = df[['cupper_points', 'aroma', 'flavor', 'aftertaste', 'body', 'acidity', 'balance', 'uniformity', 'sweetness', 'clean_cup']].corr()"
   ]
  },
  {
   "cell_type": "code",
   "execution_count": null,
   "id": "a24f3dbc-9af6-4cdc-bbff-22ceaec92c00",
   "metadata": {
    "tags": []
   },
   "outputs": [],
   "source": [
    "plt.figure(figsize=(8, 6))\n",
    "sns.heatmap(corr, annot=True);"
   ]
  },
  {
   "cell_type": "markdown",
   "id": "2e492f4b-12db-4865-b52c-6f08409a9431",
   "metadata": {},
   "source": [
    "По тепловой карте можно сделать вывод, что на оценку качества кофе в основном влияют вкусовые параметры:\n",
    "    - аромат\n",
    "    - вкус (наибольшее влияние)\n",
    "    - послевкусие (наибольшее влияние)\n",
    "    - баланс\n",
    "    - однородность\n",
    "    \n",
    "Что странно, то сладость кофе - не является важным показателем для оценки кофе эскпертами, хотя и является вкусовой характеристикой\n",
    "Более того, это является наименнее важным показателем."
   ]
  },
  {
   "cell_type": "markdown",
   "id": "7d604c09-d90a-4267-9acd-747aee1a50d7",
   "metadata": {},
   "source": [
    "4. Как (если есть) влияние цвета зерен на общий сорт кофе?"
   ]
  },
  {
   "cell_type": "code",
   "execution_count": null,
   "id": "79c2f153-45a5-407c-8b7c-bb0416dcdd56",
   "metadata": {
    "tags": []
   },
   "outputs": [],
   "source": [
    "df['color'].value_counts()"
   ]
  },
  {
   "cell_type": "code",
   "execution_count": null,
   "id": "5cf7636b-533f-4e3d-9284-48c07d4be2f9",
   "metadata": {
    "tags": []
   },
   "outputs": [],
   "source": [
    "df['species'].value_counts()"
   ]
  },
  {
   "cell_type": "code",
   "execution_count": null,
   "id": "6fae1a2d-5e2c-4a94-8ff9-b8ba1647593b",
   "metadata": {
    "tags": []
   },
   "outputs": [],
   "source": [
    "pd.crosstab(df['species'], df['color'])"
   ]
  },
  {
   "cell_type": "markdown",
   "id": "9ea8b871-ccd3-4a5d-82d1-8be944f22b76",
   "metadata": {
    "tags": []
   },
   "source": [
    "Благодаря кросс-таблице можно наглядно увидеть, что с большей долей вероятности для текущего дата сета цвет зерен Green присущ сорту Arabica.\n",
    "Для Robusta сликом мало данных, однако результат будет такой же."
   ]
  },
  {
   "cell_type": "markdown",
   "id": "71fbc911",
   "metadata": {},
   "source": [
    "Если бы у нас не было данных по Robusta или зернам этого сорта было присуще большинство другого цвета можно было бы сделать вывод, что сорт действительно зависит от цвета, однако сейчас - это не так.\n"
   ]
  },
  {
   "cell_type": "markdown",
   "id": "7572ef2b-bc6d-41ff-95b5-96faa2db3bf3",
   "metadata": {},
   "source": [
    "5. Влияет ли страна происхождения на качество кофе?"
   ]
  },
  {
   "cell_type": "code",
   "execution_count": null,
   "id": "dad47795-4505-44b0-b461-834387ee97a6",
   "metadata": {
    "tags": []
   },
   "outputs": [],
   "source": [
    "specialty_df = df[df['total_cup_points'] >= 80]"
   ]
  },
  {
   "cell_type": "code",
   "execution_count": null,
   "id": "bec45ecc-cdf3-40ea-bc63-54a1a5a55f10",
   "metadata": {
    "tags": []
   },
   "outputs": [],
   "source": [
    "total_counts = df['country_of_origin'].value_counts()\n",
    "filtered_counts = specialty_df['country_of_origin'].value_counts()\n",
    "perc = (filtered_counts / total_counts) * 100\n",
    "perc.sort_values(ascending=False)"
   ]
  },
  {
   "cell_type": "code",
   "execution_count": null,
   "id": "ac227f18-60b3-4bcd-853d-4933aec20a83",
   "metadata": {
    "tags": []
   },
   "outputs": [],
   "source": [
    "plt.figure(figsize=(12, 4))\n",
    "sns.barplot(x=perc.index[perc > 90],\n",
    "            y=perc.values[perc > 90])\n",
    "plt.xticks(rotation=90)\n",
    "plt.show()"
   ]
  },
  {
   "cell_type": "markdown",
   "id": "e095b06c-da80-41a1-9c0f-9e979740dcfb",
   "metadata": {},
   "source": [
    "На графике только те страны, что экспортировали исключительно Specialty кофе ко всему экспорту, 100% сырья было total_cup_points >= 80\n",
    "\n",
    "Из этого можно сделать вывод - страна происхождения влияет на качество кофе тк такие страны действительно есть."
   ]
  },
  {
   "cell_type": "markdown",
   "id": "748a1a9e-f0e8-4d31-8a34-8a7a57f4ed75",
   "metadata": {},
   "source": [
    "6. Существенно ли влияет высота на качество кофе?"
   ]
  },
  {
   "cell_type": "code",
   "execution_count": null,
   "id": "f28f0f53-be4e-4e06-b958-018343df869c",
   "metadata": {
    "tags": []
   },
   "outputs": [],
   "source": [
    "specialty_df['altitude_mean_meters'].mean().round(2)"
   ]
  },
  {
   "cell_type": "markdown",
   "id": "762f0ba4-2bc7-4725-b71b-5d1ccb9ce677",
   "metadata": {},
   "source": [
    "Как видим, что с среднем Specialty кофейные зерна произростают в среднем на высоте - 1661.2m"
   ]
  },
  {
   "cell_type": "code",
   "execution_count": null,
   "id": "83e296a7-0a27-4eb6-a9ca-6970e595eeb7",
   "metadata": {
    "tags": []
   },
   "outputs": [],
   "source": [
    "not_specialty_df = df[df['total_cup_points'] < 80]\n",
    "not_specialty_df['altitude_mean_meters'].mean().round(2)"
   ]
  },
  {
   "cell_type": "markdown",
   "id": "6b18511c-b573-48e7-9a45-7b8cfd0ea421",
   "metadata": {},
   "source": [
    "А если брать обратную ситуацию, то зерна, которые имеют качество ниже произрастают значительно выше."
   ]
  },
  {
   "cell_type": "code",
   "execution_count": null,
   "id": "a3f37ff3-8ab9-4280-96db-c0cbfcfcdfb9",
   "metadata": {
    "tags": []
   },
   "outputs": [],
   "source": [
    "Результаты моего анализа по этому заданию получились весьма протеворичивы тк на большинстве ресурсов указана как раз обратная информация. \n",
    "Что чем выще растут кофейные зерна - тем качественее напиток будет по итогу. \n",
    "Хотелось бы получить фидбек по этому заданию тк интересно, как правильно необходимо было проводить этот анализ"
   ]
  }
 ],
 "metadata": {
  "kernelspec": {
   "display_name": "Python 3 (ipykernel)",
   "language": "python",
   "name": "python3"
  },
  "language_info": {
   "codemirror_mode": {
    "name": "ipython",
    "version": 3
   },
   "file_extension": ".py",
   "mimetype": "text/x-python",
   "name": "python",
   "nbconvert_exporter": "python",
   "pygments_lexer": "ipython3",
   "version": "3.11.3"
  }
 },
 "nbformat": 4,
 "nbformat_minor": 5
}
